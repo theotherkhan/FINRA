{
 "cells": [
  {
   "cell_type": "code",
   "execution_count": 150,
   "metadata": {
    "collapsed": false
   },
   "outputs": [],
   "source": [
    "import pandas as pd\n",
    "import ast\n",
    "\n",
    "df = pd.read_csv('all_iadp_people.csv',encoding='ISO-8859-1',sep='|',names=['advisor','current_company','disclosures','company_history','start','end','company_location'])"
   ]
  },
  {
   "cell_type": "code",
   "execution_count": 151,
   "metadata": {
    "collapsed": false
   },
   "outputs": [
    {
     "data": {
      "text/html": [
       "<div>\n",
       "<table border=\"1\" class=\"dataframe\">\n",
       "  <thead>\n",
       "    <tr style=\"text-align: right;\">\n",
       "      <th></th>\n",
       "      <th>advisor</th>\n",
       "      <th>current_company</th>\n",
       "      <th>disclosures</th>\n",
       "      <th>company_history</th>\n",
       "      <th>start</th>\n",
       "      <th>end</th>\n",
       "      <th>company_location</th>\n",
       "    </tr>\n",
       "  </thead>\n",
       "  <tbody>\n",
       "    <tr>\n",
       "      <th>0</th>\n",
       "      <td>MATTHEW J BROZOVIC</td>\n",
       "      <td>149777.0</td>\n",
       "      <td>0</td>\n",
       "      <td>[CITIGROUP GLOBAL MARKETS INC., MORGAN STANLEY...</td>\n",
       "      <td>[07/1993, 06/2009, 01/2015]</td>\n",
       "      <td>[06/2009, 01/2015, 04/2017]</td>\n",
       "      <td>[CHICAGO IL, CHICAGO IL, NEW YORK NY]</td>\n",
       "    </tr>\n",
       "    <tr>\n",
       "      <th>1</th>\n",
       "      <td>MARK ROBERT HANSON</td>\n",
       "      <td>1137.0</td>\n",
       "      <td>0</td>\n",
       "      <td>[PRINCIPAL LIFE INSURANCE COMPANY, PRINCOR FIN...</td>\n",
       "      <td>[07/1998, 10/1990, 04/2000]</td>\n",
       "      <td>[10/1990, 04/2000, 04/2017]</td>\n",
       "      <td>[DES MOINES IA, DES MOINES IA, NAPERVILLE IL]</td>\n",
       "    </tr>\n",
       "    <tr>\n",
       "      <th>2</th>\n",
       "      <td>Steven H. Tolley</td>\n",
       "      <td>250.0</td>\n",
       "      <td>0</td>\n",
       "      <td>[EDWARD D. JONES &amp; CO., L.P.]</td>\n",
       "      <td>[03/1992]</td>\n",
       "      <td>[04/2017]</td>\n",
       "      <td>[OREM UT]</td>\n",
       "    </tr>\n",
       "    <tr>\n",
       "      <th>3</th>\n",
       "      <td>STEVEN ROY WILLIAMSON</td>\n",
       "      <td>6363.0</td>\n",
       "      <td>0</td>\n",
       "      <td>[Ameriprise Financial Services, Inc.]</td>\n",
       "      <td>[02/1992]</td>\n",
       "      <td>[04/2017]</td>\n",
       "      <td>[Midlothian VA]</td>\n",
       "    </tr>\n",
       "    <tr>\n",
       "      <th>4</th>\n",
       "      <td>CAROL FRANCES HENRICK</td>\n",
       "      <td>14869.0</td>\n",
       "      <td>0</td>\n",
       "      <td>[METROPOLITAN LIFE INSURANCE COMPANY, METLIFE ...</td>\n",
       "      <td>[10/1989, 10/1989, 01/2011, 01/2011, 10/2010, ...</td>\n",
       "      <td>[09/2010, 09/2010, 01/2011, 12/2011, 12/2010, ...</td>\n",
       "      <td>[LAKE ST LOUIS MO, LAKE ST LOUIS MO, LINCOLN N...</td>\n",
       "    </tr>\n",
       "  </tbody>\n",
       "</table>\n",
       "</div>"
      ],
      "text/plain": [
       "                 advisor  current_company  disclosures  \\\n",
       "0     MATTHEW J BROZOVIC         149777.0            0   \n",
       "1     MARK ROBERT HANSON           1137.0            0   \n",
       "2       Steven H. Tolley            250.0            0   \n",
       "3  STEVEN ROY WILLIAMSON           6363.0            0   \n",
       "4  CAROL FRANCES HENRICK          14869.0            0   \n",
       "\n",
       "                                     company_history  \\\n",
       "0  [CITIGROUP GLOBAL MARKETS INC., MORGAN STANLEY...   \n",
       "1  [PRINCIPAL LIFE INSURANCE COMPANY, PRINCOR FIN...   \n",
       "2                      [EDWARD D. JONES & CO., L.P.]   \n",
       "3              [Ameriprise Financial Services, Inc.]   \n",
       "4  [METROPOLITAN LIFE INSURANCE COMPANY, METLIFE ...   \n",
       "\n",
       "                                               start  \\\n",
       "0                        [07/1993, 06/2009, 01/2015]   \n",
       "1                        [07/1998, 10/1990, 04/2000]   \n",
       "2                                          [03/1992]   \n",
       "3                                          [02/1992]   \n",
       "4  [10/1989, 10/1989, 01/2011, 01/2011, 10/2010, ...   \n",
       "\n",
       "                                                 end  \\\n",
       "0                        [06/2009, 01/2015, 04/2017]   \n",
       "1                        [10/1990, 04/2000, 04/2017]   \n",
       "2                                          [04/2017]   \n",
       "3                                          [04/2017]   \n",
       "4  [09/2010, 09/2010, 01/2011, 12/2011, 12/2010, ...   \n",
       "\n",
       "                                    company_location  \n",
       "0              [CHICAGO IL, CHICAGO IL, NEW YORK NY]  \n",
       "1      [DES MOINES IA, DES MOINES IA, NAPERVILLE IL]  \n",
       "2                                          [OREM UT]  \n",
       "3                                    [Midlothian VA]  \n",
       "4  [LAKE ST LOUIS MO, LAKE ST LOUIS MO, LINCOLN N...  "
      ]
     },
     "execution_count": 151,
     "metadata": {},
     "output_type": "execute_result"
    }
   ],
   "source": [
    "def col2list(col):\n",
    "    new_col = []\n",
    "    count = 0\n",
    "    for i in df[col]:\n",
    "        new_col.append(ast.literal_eval(i))\n",
    "        count += 1\n",
    "    ser = pd.Series(new_col)\n",
    "    df[col] = ser\n",
    "change_list = ['company_history','start','end','company_location']\n",
    "for i in change_list:\n",
    "    col2list(i)\n",
    "df.head()    "
   ]
  },
  {
   "cell_type": "code",
   "execution_count": 152,
   "metadata": {
    "collapsed": false
   },
   "outputs": [],
   "source": [
    "from datetime import datetime\n",
    "from collections import namedtuple\n",
    "def date_diff(date1,date2,date11,date22):\n",
    "    Range = namedtuple('Range', ['start','end'])\n",
    "    #date1 = '07/1993'.split('/')\n",
    "    date1 = date1.split('/')\n",
    "    date2 = date2.split('/')\n",
    "    '''\n",
    "    if int(date1[0]) > int(date2[0]) and int(date1[1]) > int(date2[1]):\n",
    "        f = date1\n",
    "        date1 = date2\n",
    "        date2 = f\n",
    "    '''\n",
    "    date11 = date11.split('/')\n",
    "    date22 = date22.split('/')\n",
    "    r1 = Range(start=datetime(int(date1[1]), int(date1[0]), 14), end=datetime(int(date2[1]), int(date2[0]), 14))\n",
    "    r2 = Range(start=datetime(int(date11[1]), int(date11[0]), 14), end=datetime(int(date22[1]), int(date22[0]), 14))\n",
    "    latest_start = max(r1.start, r2.start)\n",
    "    earliest_end = min(r1.end, r2.end)\n",
    "    overlap = (earliest_end - latest_start).days + 1\n",
    "    return overlap"
   ]
  },
  {
   "cell_type": "code",
   "execution_count": 153,
   "metadata": {
    "collapsed": false
   },
   "outputs": [],
   "source": [
    "def name_index(name):\n",
    "    for index in range(0,len(df['advisor'])):\n",
    "        i = str(df['advisor'][index])\n",
    "        if name.lower() == i.lower():\n",
    "            return index"
   ]
  },
  {
   "cell_type": "code",
   "execution_count": 154,
   "metadata": {
    "collapsed": false
   },
   "outputs": [],
   "source": [
    "def how_long(name): # is this function supposed to take another name\n",
    "    \"\"\"Checks how long a certain has worked with who?\"\"\"\n",
    "    input_name_index = name_index(name)\n",
    "    for company_input_index in range(0,len(df['company_history'][input_name_index])):\n",
    "        company_input = df['company_history'][input_name_index][company_input_index]\n",
    "        for advisor_index in range(0,len(df['advisor'])):\n",
    "            if company_input in df['company_history'][advisor_index]:\n",
    "                if df['company_location'][input_name_index][company_input_index] in df['company_location'][advisor_index]:\n",
    "                    advisor_matching_index = df['company_location'][advisor_index].index(df['company_location'][input_name_index][company_input_index])\n",
    "                    date1 = df['start'][input_name_index][company_input_index]\n",
    "                    date2 = df['end'][input_name_index][company_input_index]\n",
    "                    date11 = df['start'][advisor_index][advisor_matching_index]\n",
    "                    date22 = df['end'][advisor_index][advisor_matching_index]\n",
    "                    dd = date_diff(date1, date2, date11, date22)\n",
    "                    if dd != 0:\n",
    "                        print(df['advisor'][advisor_index] + ': ' + str(dd))"
   ]
  },
  {
   "cell_type": "code",
   "execution_count": 155,
   "metadata": {
    "collapsed": false
   },
   "outputs": [
    {
     "name": "stdout",
     "output_type": "stream",
     "text": [
      "STEVEN ROY WILLIAMSON: 9192\n",
      "CHRISTOPHER AMSBARG BRENNAN: 4231\n"
     ]
    }
   ],
   "source": [
    "how_long('STEVEN ROY WILLIAMSON')"
   ]
  }
 ],
 "metadata": {
  "kernelspec": {
   "display_name": "Python 3",
   "language": "python",
   "name": "python3"
  },
  "language_info": {
   "codemirror_mode": {
    "name": "ipython",
    "version": 3
   },
   "file_extension": ".py",
   "mimetype": "text/x-python",
   "name": "python",
   "nbconvert_exporter": "python",
   "pygments_lexer": "ipython3",
   "version": "3.6.0"
  }
 },
 "nbformat": 4,
 "nbformat_minor": 2
}
